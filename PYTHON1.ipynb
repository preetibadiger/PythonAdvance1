{
 "cells": [
  {
   "cell_type": "code",
   "execution_count": null,
   "id": "02d833d7",
   "metadata": {},
   "outputs": [],
   "source": [
    "Q1. What is the purpose of Python&#39;s OOP?\n",
    "\n",
    "ANS:\n",
    "    In Python, object-oriented Programming (OOPs) is a programming paradigm that uses objects and classes \n",
    "    in programming. It aims to implement real-world entities like inheritance, polymorphisms, encapsulation, etc. \n",
    "    in the programming."
   ]
  },
  {
   "cell_type": "code",
   "execution_count": null,
   "id": "29e8d5d0",
   "metadata": {},
   "outputs": [],
   "source": [
    "Q2. Where does an inheritance search look for an attribute?\n",
    "\n",
    "ANS:\n",
    "    The whole point of a namespace tool like the class statement is to support name inheritance.\n",
    "    In Python, inheritance happens when an object is qualified, and involves searching an attribute definition \n",
    "    tree (one or more namespaces). Every time you use an expression of the form object."
   ]
  },
  {
   "cell_type": "code",
   "execution_count": null,
   "id": "78a34d1b",
   "metadata": {},
   "outputs": [],
   "source": [
    "Q3. How do you distinguish between a class object and an instance object?\n",
    "\n",
    "ANS:\n",
    "    class object is like a blueprint for intance object but instance object is a concrete item in out code.\n",
    "instance objects are new namespaces, thay start out empty but inherit object attributes that live in class object."
   ]
  },
  {
   "cell_type": "code",
   "execution_count": null,
   "id": "768fb551",
   "metadata": {},
   "outputs": [],
   "source": [
    "Q4. What makes the first argument in a class’s method function special?\n",
    "\n",
    "\n",
    "ANS:\n",
    "    The first argument of every class method, including init, is always a reference to the current instance of the class.\n",
    "By convention, this argument is always named self. In the init method, self refers to the newly created object;\n",
    "in other class methods, it refers to the instance whose method was called.\n"
   ]
  },
  {
   "cell_type": "code",
   "execution_count": null,
   "id": "e511dc25",
   "metadata": {},
   "outputs": [],
   "source": [
    "Q5. What is the purpose of the __init__ method?\n",
    "\n",
    "ANS:\n",
    "    __init__ method\n",
    "    \"__init__\" is a reseved method in python classes. It is called as a constructor in object oriented terminology.\n",
    "   This method is called when an object is created from a class and it allows the class to initialize the attributes \n",
    "   of the class."
   ]
  },
  {
   "cell_type": "code",
   "execution_count": null,
   "id": "7e872a61",
   "metadata": {},
   "outputs": [],
   "source": [
    "Q6. What is the process for creating a class instance?\n",
    "\n",
    "ANS:\n",
    "    The first method __init__() is a special method, which is called class constructor or initialization method\n",
    "    that Python calls when you create a new instance of this class. You declare other class methods like normal\n",
    "    functions with the exception that the first argument to each method is self."
   ]
  },
  {
   "cell_type": "code",
   "execution_count": null,
   "id": "054f00e1",
   "metadata": {},
   "outputs": [],
   "source": [
    "Q7. What is the process for creating a class?\n",
    "\n",
    "ANS:\n",
    "    A Class is like an object constructor, or a \"blueprint\" for creating objects.\n",
    "Create a Class. To create a class, use the keyword class : ...\n",
    "Create Object. Now we can use the class named MyClass to create objects: ...\n",
    "The self Parameter. ...\n",
    "Modify Object Properties. ...\n",
    "Delete Object Properties. ...\n",
    "Delete Objects."
   ]
  },
  {
   "cell_type": "code",
   "execution_count": 8,
   "id": "be4a92a8",
   "metadata": {},
   "outputs": [],
   "source": [
    "class Employee:\n",
    "    'Common base class for all employees'\n",
    "    empCount = 0\n",
    "    def __init__(self, name, salary):\n",
    "        self.name = name\n",
    "        self.salary = salary\n",
    "        Employee.empCount += 1\n",
    "        def displayCount(self):\n",
    "            print (\"Total Employee %d\" % Employee.empCount)\n",
    "            def displayEmployee(self):\n",
    "                print (\"Name : \", self.name, \", Salary: \", self.salary)"
   ]
  },
  {
   "cell_type": "code",
   "execution_count": null,
   "id": "d2920bfd",
   "metadata": {},
   "outputs": [],
   "source": [
    "Q8. How would you define the superclasses of a class?\n",
    "\n",
    "ANS:\n",
    "    The class from which a class inherits is called the parent or superclass.\n",
    "    A class which inherits from a superclass is called a subclass, also called heir class or child class.\n",
    "    Superclasses are sometimes called ancestors as well\n",
    "    "
   ]
  },
  {
   "cell_type": "code",
   "execution_count": null,
   "id": "262a7780",
   "metadata": {},
   "outputs": [],
   "source": []
  }
 ],
 "metadata": {
  "kernelspec": {
   "display_name": "Python 3 (ipykernel)",
   "language": "python",
   "name": "python3"
  },
  "language_info": {
   "codemirror_mode": {
    "name": "ipython",
    "version": 3
   },
   "file_extension": ".py",
   "mimetype": "text/x-python",
   "name": "python",
   "nbconvert_exporter": "python",
   "pygments_lexer": "ipython3",
   "version": "3.9.7"
  }
 },
 "nbformat": 4,
 "nbformat_minor": 5
}
